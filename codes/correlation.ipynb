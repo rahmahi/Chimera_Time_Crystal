{
 "cells": [
  {
   "cell_type": "markdown",
   "id": "9a8a025e",
   "metadata": {},
   "source": [
    "# Clean system with periodic drive\n",
    "\n",
    "\\begin{align}\n",
    "H =& \n",
    "\\begin{cases}\n",
    "\tH_1 =\\hbar g (1-\\epsilon_A) \\sum_{i \\in A}\\sigma^x_i + \\hbar g (1-\\epsilon_B) \\sum_{i \\in B}\\sigma^x_i & ; 0\\leq t < T_1\\\\\n",
    "\tH_2 =\\hbar \\sum_{i\\neq j} \\frac{J}{|i-j|^\\beta} \\sigma^y_i \\sigma^y_{j} + \\hbar (-h \\sin(\\omega t)) \\sum_i \\sigma^z_i & ; T_1\\leq t < T\t\n",
    "\\end{cases}\n",
    "\\label{eq:cleanham}\n",
    "\\end{align}"
   ]
  },
  {
   "cell_type": "markdown",
   "id": "ed353155",
   "metadata": {},
   "source": []
  },
  {
   "cell_type": "markdown",
   "id": "217cba67",
   "metadata": {},
   "source": [
    "# Spin spin correlation \n",
    "\n",
    "\\begin{equation}\n",
    "\\langle\\hat\\sigma^x_i(\\tau)\\rangle = \\langle\\psi_0 \\vert \\hat\\sigma^x_i(\\tau) \\hat\\sigma^x_i(0)\\vert \\psi_0 \\rangle\n",
    "\\end{equation}"
   ]
  },
  {
   "cell_type": "markdown",
   "id": "e40f824a",
   "metadata": {},
   "source": [
    "Ref:\n",
    "\n",
    "[1] A. Sakurai et al. Phys. Rev. Lett. 126, 120606(2021)\n",
    "\n",
    "[2] Pekik et al. Phys. Rev. B. 100, 214311(2019)\n",
    "\n",
    "[3] Zhang 10.1038/nature21413\n",
    "\n",
    "[4] Nemoto et al. Phys. https://doi.org/10.1126/sciadv.aay8892"
   ]
  },
  {
   "cell_type": "markdown",
   "id": "6fdbacc1-c4bb-4411-b7a0-035e81214d7d",
   "metadata": {},
   "source": [
    "## comaprision of strong and weak coupling together at resonance point"
   ]
  },
  {
   "cell_type": "code",
   "execution_count": 3,
   "id": "da88529d",
   "metadata": {},
   "outputs": [
    {
     "name": "stdout",
     "output_type": "stream",
     "text": [
      "Function definition complete!!\n"
     ]
    }
   ],
   "source": [
    "from qutip import *\n",
    "from scipy import signal\n",
    "import numpy as np\n",
    "import random\n",
    "import matplotlib.pyplot as plt\n",
    "from scipy.special import jn_zeros\n",
    "from itertools import combinations\n",
    "from multiprocessing import Pool\n",
    "\n",
    "##--- Energy per spin for interaction range order---------\n",
    "def j_ij(Jvalue, i,j, beta):\n",
    "    return Jvalue/(np.abs(i-j))**beta\n",
    "\n",
    "##-- Drive-------------------------------------------------\n",
    "\n",
    "def drive1(t, args):\n",
    "    w = args['omega']\n",
    "    T = 2 * np.pi/w\n",
    "\n",
    "    sqr1 = signal.square(2 * np.pi/T * t)\n",
    "    if sqr1 == -1:\n",
    "        sqr1= 0\n",
    "    return sqr1\n",
    "\n",
    "def drive2(t, args):\n",
    "    w = args['omega']\n",
    "    T = 2 * np.pi/w\n",
    "\n",
    "    sqr1 = -signal.square(2 * np.pi/T * t)\n",
    "    if sqr1 == -1:\n",
    "        sqr1= 0\n",
    "    return sqr1\n",
    "\n",
    "def drive3(t, args):    # square cos wave transverse\n",
    "    w = args['omega']\n",
    "    h0 = args['h0']\n",
    "    h = args['h']\n",
    "    T = 2 * np.pi/w\n",
    "\n",
    "    sint = -np.sin(w*t)\n",
    "    if sint<=0:\n",
    "        sint = 0\n",
    "    sqrsin = h0 + h * sint\n",
    "    return sqrsin\n",
    "\n",
    "def get_hamiltonian(N,N1, lambd_x, lambd_y, Jvalue, beta, g, ea, eb):\n",
    "    sx,sy,sz = sigmax(), sigmay(), sigmaz()\n",
    "    empt = qzero(2**N) + 1j * qzero(2**N)\n",
    "    H10, H11, H12, H21, H22, H23, H24 =  empt, empt, empt, empt, empt, empt, empt\n",
    "    \n",
    "    ##-- Hamiltonian ------------------------------------------- \n",
    "    ##-- First half\n",
    "\n",
    "    for i in range(N1):  \n",
    "        id = qeye(2**i)    \n",
    "        dim11 = N-1-i\n",
    "        id1 = qeye(2**dim11)\n",
    "        H11 = H11 + Qobj(tensor(id,tensor(sx,id1)).full()) * g * (1-ea)\n",
    "\n",
    "    for i in range(N1,N):  \n",
    "        id = qeye(2**i)    \n",
    "        dim12 = N-1-i\n",
    "        id1 = qeye(2**dim12)\n",
    "        H12 = H12 + Qobj(tensor(id,tensor(sx,id1)).full()) * g * (1-eb)   \n",
    "\n",
    "    ##-- Second half\n",
    "\n",
    "    comb = combinations(np.arange(N), 2)\n",
    "    for nm in list(comb):\n",
    "        i,j= np.array(nm)\n",
    "        id = qeye(2**i)\n",
    "        dim11 = j-i-1\n",
    "        id1 = qeye(2**dim11)\n",
    "        dim12 = N-1-j\n",
    "        id2 = qeye(2**dim12)\n",
    "        H21 = H21 + Qobj(tensor(id, tensor(sy, tensor(id1, tensor(sy,id2)))).full()) * j_ij(Jvalue, i,j, beta)\n",
    "        \n",
    "    for i in range(N):  \n",
    "        id = qeye(2**i)    \n",
    "        dim22 = N-1-i\n",
    "        id1 = qeye(2**dim22)\n",
    "        H22 = H22 + Qobj(tensor(id,tensor(sz,id1)).full()) \n",
    "\n",
    "    for i in range(N):  \n",
    "        id = qeye(2**i)    \n",
    "        dim22 = N-1-i\n",
    "        id1 = qeye(2**dim22)\n",
    "        H23 = H23 + Qobj(tensor(id,tensor(sx,id1)).full()) * lambd_x\n",
    "\n",
    "    for i in range(N):  \n",
    "        id = qeye(2**i)    \n",
    "        dim22 = N-1-i\n",
    "        id1 = qeye(2**dim22)\n",
    "        H24 = H24 + Qobj(tensor(id,tensor(sy,id1)).full()) * lambd_y\n",
    "    \n",
    "    return H11, H12, H21, H22, H23, H24\n",
    "\n",
    "##-- Dynamics\n",
    "def run_dynm(args):\n",
    "    N,N1,lambd_x,lambd_y,Jvalue=args['N'],args['N1'],args['lambd_x'],args['lambd_y'],args['Jvalue']\n",
    "    beta,g,ea,eb,w = args['beta'],args['g'],args['ea'],args['eb'],args['omega']\n",
    "    h0,h,times,sz_o = args['h0'],args['h'],args['times'], args['sz_o']\n",
    "    \n",
    "    H11, H12, H21, H22, H23, H24 =  get_hamiltonian(N,N1, lambd_x, lambd_y, Jvalue, beta, g, ea, eb)\n",
    "    \n",
    "    params = args\n",
    "    \n",
    "    H = [[H11,drive1], [H12,drive1],[H21,drive2], [H22,drive3], [H23,drive2], [H24,drive2]]\n",
    "    grket = basis(2**N,0)        \n",
    "    out = mesolve(H, grket, times, [], [sz_o],args = params)\n",
    "    return out.expect\n",
    "\n",
    "print(\"Function definition complete!!\")"
   ]
  },
  {
   "cell_type": "code",
   "execution_count": 10,
   "id": "1c430a6d",
   "metadata": {},
   "outputs": [
    {
     "data": {
      "text/latex": [
       "Quantum object: dims=[[256], [256]], shape=(256, 256), type='oper', dtype=Dense, isherm=True$$\\left(\\begin{array}{cc}1 & 0 & 0 & 0 & 0 & \\cdots & 0 & 0 & 0 & 0 & 0\\\\0 & 1 & 0 & 0 & 0 & \\cdots & 0 & 0 & 0 & 0 & 0\\\\0 & 0 & 1 & 0 & 0 & \\cdots & 0 & 0 & 0 & 0 & 0\\\\0 & 0 & 0 & 1 & 0 & \\cdots & 0 & 0 & 0 & 0 & 0\\\\0 & 0 & 0 & 0 & 1 & \\cdots & 0 & 0 & 0 & 0 & 0\\\\\\vdots & \\vdots & \\vdots & \\vdots & \\vdots & \\ddots & \\vdots & \\vdots & \\vdots & \\vdots & \\vdots\\\\0 & 0 & 0 & 0 & 0 & \\cdots & -1 & 0 & 0 & 0 & 0\\\\0 & 0 & 0 & 0 & 0 & \\cdots & 0 & -1 & 0 & 0 & 0\\\\0 & 0 & 0 & 0 & 0 & \\cdots & 0 & 0 & -1 & 0 & 0\\\\0 & 0 & 0 & 0 & 0 & \\cdots & 0 & 0 & 0 & -1 & 0\\\\0 & 0 & 0 & 0 & 0 & \\cdots & 0 & 0 & 0 & 0 & -1\\end{array}\\right)$$"
      ],
      "text/plain": [
       "Quantum object: dims=[[256], [256]], shape=(256, 256), type='oper', dtype=Dense, isherm=True\n",
       "Qobj data =\n",
       "[[ 1.  0.  0. ...  0.  0.  0.]\n",
       " [ 0.  1.  0. ...  0.  0.  0.]\n",
       " [ 0.  0.  1. ...  0.  0.  0.]\n",
       " ...\n",
       " [ 0.  0.  0. ... -1.  0.  0.]\n",
       " [ 0.  0.  0. ...  0. -1.  0.]\n",
       " [ 0.  0.  0. ...  0.  0. -1.]]"
      ]
     },
     "execution_count": 10,
     "metadata": {},
     "output_type": "execute_result"
    }
   ],
   "source": [
    "sz_0"
   ]
  },
  {
   "cell_type": "code",
   "execution_count": null,
   "id": "9eb05129",
   "metadata": {},
   "outputs": [],
   "source": []
  },
  {
   "cell_type": "code",
   "execution_count": null,
   "id": "e778f231",
   "metadata": {},
   "outputs": [],
   "source": []
  },
  {
   "cell_type": "code",
   "execution_count": null,
   "id": "06230146",
   "metadata": {},
   "outputs": [],
   "source": []
  },
  {
   "cell_type": "code",
   "execution_count": 4,
   "id": "9645fcb4-c545-4c0a-b48b-e43e6d89f6e5",
   "metadata": {
    "tags": []
   },
   "outputs": [
    {
     "ename": "TypeError",
     "evalue": "The coefficient function must return a number",
     "output_type": "error",
     "traceback": [
      "\u001b[0;31m---------------------------------------------------------------------------\u001b[0m",
      "\u001b[0;31mRemoteTraceback\u001b[0m                           Traceback (most recent call last)",
      "\u001b[0;31mRemoteTraceback\u001b[0m: \n\"\"\"\nTraceback (most recent call last):\n  File \"/usr/lib/python3.10/multiprocessing/pool.py\", line 125, in worker\n    result = (True, func(*args, **kwds))\n  File \"/usr/lib/python3.10/multiprocessing/pool.py\", line 48, in mapstar\n    return list(map(*args))\n  File \"/tmp/ipykernel_11459/3804538497.py\", line 110, in run_dynm\n    out = mesolve(H, grket, times, [], [sz_o],args = params)\n  File \"/home/mahi/.local/lib/python3.10/site-packages/qutip/solver/mesolve.py\", line 131, in mesolve\n    H = QobjEvo(H, args=args, tlist=tlist)\n  File \"qutip/core/cy/qobjevo.pyx\", line 223, in qutip.core.cy.qobjevo.QobjEvo.__init__\n  File \"qutip/core/cy/qobjevo.pyx\", line 272, in qutip.core.cy.qobjevo.QobjEvo._read_element\n  File \"/home/mahi/.local/lib/python3.10/site-packages/qutip/core/coefficient.py\", line 180, in coefficient\n    raise TypeError(\"The coefficient function must return a number\")\nTypeError: The coefficient function must return a number\n\"\"\"",
      "\nThe above exception was the direct cause of the following exception:\n",
      "\u001b[0;31mTypeError\u001b[0m                                 Traceback (most recent call last)",
      "Cell \u001b[0;32mIn[4], line 80\u001b[0m\n\u001b[1;32m     73\u001b[0m params2 \u001b[38;5;241m=\u001b[39m [{\u001b[38;5;124m'\u001b[39m\u001b[38;5;124mh0\u001b[39m\u001b[38;5;124m'\u001b[39m:\u001b[38;5;241m0\u001b[39m, \u001b[38;5;124m'\u001b[39m\u001b[38;5;124mh\u001b[39m\u001b[38;5;124m'\u001b[39m:h, \u001b[38;5;124m'\u001b[39m\u001b[38;5;124momega\u001b[39m\u001b[38;5;124m'\u001b[39m:omega, \u001b[38;5;124m'\u001b[39m\u001b[38;5;124mN\u001b[39m\u001b[38;5;124m'\u001b[39m:N,\u001b[38;5;124m'\u001b[39m\u001b[38;5;124mN1\u001b[39m\u001b[38;5;124m'\u001b[39m:N1,\\\n\u001b[1;32m     74\u001b[0m             \u001b[38;5;124m'\u001b[39m\u001b[38;5;124msz_o\u001b[39m\u001b[38;5;124m'\u001b[39m:sz_cor_0_7, \u001b[38;5;124m'\u001b[39m\u001b[38;5;124mlambd_x\u001b[39m\u001b[38;5;124m'\u001b[39m:lambd_x,\\\n\u001b[1;32m     75\u001b[0m             \u001b[38;5;124m'\u001b[39m\u001b[38;5;124mlambd_y\u001b[39m\u001b[38;5;124m'\u001b[39m:lambd_y, \u001b[38;5;124m'\u001b[39m\u001b[38;5;124mJvalue\u001b[39m\u001b[38;5;124m'\u001b[39m:Jvalues[\u001b[38;5;241m1\u001b[39m],\u001b[38;5;124m'\u001b[39m\u001b[38;5;124mbeta\u001b[39m\u001b[38;5;124m'\u001b[39m:beta,\\\n\u001b[1;32m     76\u001b[0m             \u001b[38;5;124m'\u001b[39m\u001b[38;5;124mg\u001b[39m\u001b[38;5;124m'\u001b[39m:g,\u001b[38;5;124m'\u001b[39m\u001b[38;5;124mea\u001b[39m\u001b[38;5;124m'\u001b[39m:ea,\u001b[38;5;124m'\u001b[39m\u001b[38;5;124meb\u001b[39m\u001b[38;5;124m'\u001b[39m:eb, \u001b[38;5;124m'\u001b[39m\u001b[38;5;124mtimes\u001b[39m\u001b[38;5;124m'\u001b[39m:times} \u001b[38;5;28;01mfor\u001b[39;00m beta \u001b[38;5;129;01min\u001b[39;00m betas]\n\u001b[1;32m     78\u001b[0m params \u001b[38;5;241m=\u001b[39m params1 \u001b[38;5;241m+\u001b[39m params2\n\u001b[0;32m---> 80\u001b[0m data \u001b[38;5;241m=\u001b[39m \u001b[43mp\u001b[49m\u001b[38;5;241;43m.\u001b[39;49m\u001b[43mmap\u001b[49m\u001b[43m(\u001b[49m\u001b[43mrun_dynm\u001b[49m\u001b[43m,\u001b[49m\u001b[43mparams1\u001b[49m\u001b[43m)\u001b[49m\n",
      "File \u001b[0;32m/usr/lib/python3.10/multiprocessing/pool.py:367\u001b[0m, in \u001b[0;36mPool.map\u001b[0;34m(self, func, iterable, chunksize)\u001b[0m\n\u001b[1;32m    362\u001b[0m \u001b[38;5;28;01mdef\u001b[39;00m \u001b[38;5;21mmap\u001b[39m(\u001b[38;5;28mself\u001b[39m, func, iterable, chunksize\u001b[38;5;241m=\u001b[39m\u001b[38;5;28;01mNone\u001b[39;00m):\n\u001b[1;32m    363\u001b[0m \u001b[38;5;250m    \u001b[39m\u001b[38;5;124;03m'''\u001b[39;00m\n\u001b[1;32m    364\u001b[0m \u001b[38;5;124;03m    Apply `func` to each element in `iterable`, collecting the results\u001b[39;00m\n\u001b[1;32m    365\u001b[0m \u001b[38;5;124;03m    in a list that is returned.\u001b[39;00m\n\u001b[1;32m    366\u001b[0m \u001b[38;5;124;03m    '''\u001b[39;00m\n\u001b[0;32m--> 367\u001b[0m     \u001b[38;5;28;01mreturn\u001b[39;00m \u001b[38;5;28;43mself\u001b[39;49m\u001b[38;5;241;43m.\u001b[39;49m\u001b[43m_map_async\u001b[49m\u001b[43m(\u001b[49m\u001b[43mfunc\u001b[49m\u001b[43m,\u001b[49m\u001b[43m \u001b[49m\u001b[43miterable\u001b[49m\u001b[43m,\u001b[49m\u001b[43m \u001b[49m\u001b[43mmapstar\u001b[49m\u001b[43m,\u001b[49m\u001b[43m \u001b[49m\u001b[43mchunksize\u001b[49m\u001b[43m)\u001b[49m\u001b[38;5;241;43m.\u001b[39;49m\u001b[43mget\u001b[49m\u001b[43m(\u001b[49m\u001b[43m)\u001b[49m\n",
      "File \u001b[0;32m/usr/lib/python3.10/multiprocessing/pool.py:774\u001b[0m, in \u001b[0;36mApplyResult.get\u001b[0;34m(self, timeout)\u001b[0m\n\u001b[1;32m    772\u001b[0m     \u001b[38;5;28;01mreturn\u001b[39;00m \u001b[38;5;28mself\u001b[39m\u001b[38;5;241m.\u001b[39m_value\n\u001b[1;32m    773\u001b[0m \u001b[38;5;28;01melse\u001b[39;00m:\n\u001b[0;32m--> 774\u001b[0m     \u001b[38;5;28;01mraise\u001b[39;00m \u001b[38;5;28mself\u001b[39m\u001b[38;5;241m.\u001b[39m_value\n",
      "\u001b[0;31mTypeError\u001b[0m: The coefficient function must return a number"
     ]
    },
    {
     "data": {
      "image/png": "[encoded data removed]",
      "text/plain": [
       "<Figure size 600x600 with 2 Axes>"
      ]
     },
     "metadata": {},
     "output_type": "display_data"
    }
   ],
   "source": [
    "from qutip import sigmax, sigmay, sigmaz\n",
    "import numpy as np\n",
    "from scipy import signal\n",
    "import random\n",
    "import matplotlib.pyplot as plt\n",
    "from scipy.special import jn_zeros\n",
    "from itertools import combinations\n",
    "from multiprocessing import Pool\n",
    "from tqdm import tqdm\n",
    "\n",
    "freezing_pts = jn_zeros(0, 5)\n",
    "plt.rcParams.update({\"figure.figsize\": (6,6),\"text.usetex\": True,\"font.family\": \"sans-serif\",\n",
    "    \"font.size\": 12,\"font.sans-serif\": [\"Helvetica\"]})\n",
    "\n",
    "N = 8\n",
    "N1= int(N/2)\n",
    "N2= N-N1\n",
    "omega = 20.0\n",
    "w = omega\n",
    "T = 2 * np.pi/w\n",
    "times = np.linspace(0, 8 * T, 400, endpoint=False)\n",
    "ea, eb = 0.03, 0.9\n",
    "g = np.pi/T\n",
    "Jvalues = [0.2/T, 0.072/T]     \n",
    "betas = [0.0, 1.5, 2.5, float('inf')]\n",
    "\n",
    "hpt = jn_zeros(0,3)[0]\n",
    "lamb = 0.0\n",
    "lambd_x = lamb\n",
    "lambd_y = lamb\n",
    "\n",
    "nprocs = 2\n",
    "p = Pool(processes = nprocs) \n",
    "#opts = Options(nsteps=1e5)\n",
    "\n",
    "# Define the subplots with one row and two columns \n",
    "fig, axs = plt.subplots(1, 2, sharex=True, sharey=True)\n",
    "\n",
    "sx,sy,sz = sigmax(), sigmay(), sigmaz()   \n",
    "h = hpt * w/4\n",
    "datap = np.zeros((N, len(times)))\n",
    "            \n",
    "# Define the hamiltonian at the position i,j = 0, 7\n",
    "pos1, pos2 = 0, 7\n",
    "i,j = pos1, pos2\n",
    "id = qeye(2**i)\n",
    "dim11 = j-i-1\n",
    "id1 = qeye(2**dim11)\n",
    "dim12 = N-1-j\n",
    "id2 = qeye(2**dim12)\n",
    "sz_cor_0_7 = Qobj(tensor(id, tensor(sz, tensor(id1, tensor(sz,id2)))).full()) \n",
    "\n",
    "# Define a single spin Hamiltonian\n",
    "pos_0 = 0\n",
    "id = qeye(2**pos_0)\n",
    "dim12 = N-1-pos_0\n",
    "id1 = qeye(2**dim12)\n",
    "sz_0 = Qobj(tensor(id,tensor(sz,id1)).full())\n",
    "\n",
    "\n",
    "pos_0 = 7\n",
    "id = qeye(2**pos_0)\n",
    "dim12 = N-1-pos_0\n",
    "id1 = qeye(2**dim12)\n",
    "sz_7 = Qobj(tensor(id,tensor(sz,id1)).full())\n",
    "\n",
    "\n",
    "params1 = [{'h0':0, 'h':h, 'omega':omega, 'N':N,'N1':N1,\\\n",
    "             'sz_o':sz_cor_0_7, 'lambd_x':lambd_x,\\\n",
    "            'lambd_y':lambd_y, 'Jvalue':Jvalues[0],'beta':beta,\\\n",
    "            'g':g,'ea':ea,'eb':eb, 'times':times} for beta in betas]\n",
    "\n",
    "params2 = [{'h0':0, 'h':h, 'omega':omega, 'N':N,'N1':N1,\\\n",
    "            'sz_o':sz_cor_0_7, 'lambd_x':lambd_x,\\\n",
    "            'lambd_y':lambd_y, 'Jvalue':Jvalues[1],'beta':beta,\\\n",
    "            'g':g,'ea':ea,'eb':eb, 'times':times} for beta in betas]\n",
    "\n",
    "params = params1 + params2\n",
    "\n",
    "data = p.map(run_dynm,params1)"
   ]
  },
  {
   "cell_type": "code",
   "execution_count": 8,
   "id": "65508486",
   "metadata": {},
   "outputs": [
    {
     "data": {
      "text/latex": [
       "Quantum object: dims=[[256], [256]], shape=(256, 256), type='oper', dtype=Dense, isherm=True$$\\left(\\begin{array}{cc}1 & 0 & 0 & 0 & 0 & \\cdots & 0 & 0 & 0 & 0 & 0\\\\0 & -1 & 0 & 0 & 0 & \\cdots & 0 & 0 & 0 & 0 & 0\\\\0 & 0 & 1 & 0 & 0 & \\cdots & 0 & 0 & 0 & 0 & 0\\\\0 & 0 & 0 & -1 & 0 & \\cdots & 0 & 0 & 0 & 0 & 0\\\\0 & 0 & 0 & 0 & 1 & \\cdots & 0 & 0 & 0 & 0 & 0\\\\\\vdots & \\vdots & \\vdots & \\vdots & \\vdots & \\ddots & \\vdots & \\vdots & \\vdots & \\vdots & \\vdots\\\\0 & 0 & 0 & 0 & 0 & \\cdots & 1 & 0 & 0 & 0 & 0\\\\0 & 0 & 0 & 0 & 0 & \\cdots & 0 & -1 & 0 & 0 & 0\\\\0 & 0 & 0 & 0 & 0 & \\cdots & 0 & 0 & 1 & 0 & 0\\\\0 & 0 & 0 & 0 & 0 & \\cdots & 0 & 0 & 0 & -1 & 0\\\\0 & 0 & 0 & 0 & 0 & \\cdots & 0 & 0 & 0 & 0 & 1\\end{array}\\right)$$"
      ],
      "text/plain": [
       "Quantum object: dims=[[256], [256]], shape=(256, 256), type='oper', dtype=Dense, isherm=True\n",
       "Qobj data =\n",
       "[[ 1.  0.  0. ...  0.  0.  0.]\n",
       " [ 0. -1.  0. ...  0.  0.  0.]\n",
       " [ 0.  0.  1. ...  0.  0.  0.]\n",
       " ...\n",
       " [ 0.  0.  0. ...  1.  0.  0.]\n",
       " [ 0.  0.  0. ...  0. -1.  0.]\n",
       " [ 0.  0.  0. ...  0.  0.  1.]]"
      ]
     },
     "execution_count": 8,
     "metadata": {},
     "output_type": "execute_result"
    }
   ],
   "source": [
    "sz_cor_0_7"
   ]
  },
  {
   "cell_type": "code",
   "execution_count": null,
   "id": "b6beca5e",
   "metadata": {},
   "outputs": [],
   "source": []
  }
 ],
 "metadata": {
  "kernelspec": {
   "display_name": "Python 3 (ipykernel)",
   "language": "python",
   "name": "python3"
  },
  "language_info": {
   "codemirror_mode": {
    "name": "ipython",
    "version": 3
   },
   "file_extension": ".py",
   "mimetype": "text/x-python",
   "name": "python",
   "nbconvert_exporter": "python",
   "pygments_lexer": "ipython3",
   "version": "3.10.12"
  },
  "toc": {
   "base_numbering": 1,
   "nav_menu": {},
   "number_sections": true,
   "sideBar": true,
   "skip_h1_title": false,
   "title_cell": "Table of Contents",
   "title_sidebar": "Contents",
   "toc_cell": false,
   "toc_position": {},
   "toc_section_display": true,
   "toc_window_display": false
  },
  "varInspector": {
   "cols": {
    "lenName": 16,
    "lenType": 16,
    "lenVar": 40
   },
   "kernels_config": {
    "python": {
     "delete_cmd_postfix": "",
     "delete_cmd_prefix": "del ",
     "library": "var_list.py",
     "varRefreshCmd": "print(var_dic_list())"
    },
    "r": {
     "delete_cmd_postfix": ") ",
     "delete_cmd_prefix": "rm(",
     "library": "var_list.r",
     "varRefreshCmd": "cat(var_dic_list()) "
    }
   },
   "types_to_exclude": [
    "module",
    "function",
    "builtin_function_or_method",
    "instance",
    "_Feature"
   ],
   "window_display": false
  }
 },
 "nbformat": 4,
 "nbformat_minor": 5
}
